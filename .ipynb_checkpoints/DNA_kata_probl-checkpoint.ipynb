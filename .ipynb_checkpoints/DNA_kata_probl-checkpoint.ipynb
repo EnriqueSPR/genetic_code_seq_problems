{
 "cells": [
  {
   "cell_type": "code",
   "execution_count": 1,
   "metadata": {},
   "outputs": [],
   "source": [
    "import numpy as np\n",
    "import pandas as pd\n",
    "import itertools "
   ]
  },
  {
   "cell_type": "markdown",
   "metadata": {},
   "source": [
    "# Exercise 1: Level 8 (Easy). \n",
    "\n",
    "Define a function that takes a DNA seq and returns the complementary"
   ]
  },
  {
   "cell_type": "code",
   "execution_count": 28,
   "metadata": {},
   "outputs": [],
   "source": [
    "\n",
    "# Sol 1:\n",
    "pairs = {'A':'T','T':'A','C':'G','G':'C'}\n",
    "def DNA_complementary(dna):\n",
    "    return ''.join([pairs[x] for x in dna])\n",
    "\n",
    "# Sol 2: \n",
    "\n",
    "def complementary_DNA(DNA):\n",
    "    \n",
    "    \"\"\"takes a DNA seq and returns the complementary\"\"\"\n",
    "    \n",
    "    comp = \"\"\n",
    "    \n",
    "    for i in DNA_seq:\n",
    "        if i == \"A\":\n",
    "            comp += \"T\"\n",
    "        elif i == \"T\":\n",
    "            comp += \"A\"\n",
    "        elif i == \"C\":\n",
    "            comp += \"G\"\n",
    "        elif i == \"G\":\n",
    "            comp += \"C\"\n",
    "        else:\n",
    "            i = \"X\"\n",
    "    return comp"
   ]
  },
  {
   "cell_type": "markdown",
   "metadata": {},
   "source": [
    "# Exercise 2: Level 8 (Easy)\n",
    "\n",
    "### DNA to RNA conversion:\n",
    "\n",
    "Deoxyribonucleic acid, DNA is the primary information storage molecule in biological systems. It is composed of four nucleic acid bases Guanine ('G'), Cytosine ('C'), Adenine ('A'), and Thymine ('T').\n",
    "\n",
    "Ribonucleic acid, RNA, is the primary messenger molecule in cells. RNA differs slightly from DNA its chemical structure and contains no Thymine. In RNA Thymine is replaced by another nucleic acid Uracil ('U').\n",
    "\n",
    "Create a function which translates a given DNA string into RNA.\n",
    "\n",
    "For example:\n",
    "\n",
    "\"GCAT\"  =>  \"GCAU\"\n",
    "The input string can be of arbitrary length - in particular, it may be empty. All input is guaranteed to be valid, i.e. each input string will only ever consist of 'G', 'C', 'A' and/or 'T'."
   ]
  },
  {
   "cell_type": "code",
   "execution_count": null,
   "metadata": {},
   "outputs": [],
   "source": [
    "def dna_to_rna(dna):\n",
    "    \n",
    "    rna = dna.replace(\"T\", \"U\")\n",
    "    \n",
    "    return rna"
   ]
  },
  {
   "cell_type": "markdown",
   "metadata": {},
   "source": [
    "# Exercise 3: Level 7 (Easy). \n",
    "\n",
    "Define a function that calculates the **GC-content**  of a seq"
   ]
  },
  {
   "cell_type": "code",
   "execution_count": 26,
   "metadata": {},
   "outputs": [],
   "source": [
    "\n",
    "# Sol 1\n",
    "\n",
    "def gc_content(seq):\n",
    "    \n",
    "    \"\"\"a function that calculates the GC-content  of a seq\"\"\"\n",
    "    if not seq :\n",
    "        return 0.0\n",
    "    else:\n",
    "        res = seq.count(\"C\")+seq.count(\"G\")\n",
    "        return round(res*100/len(seq),2)\n",
    "\n",
    "\n",
    "# Sol 2\n",
    "\n",
    "def gc_content(seq):\n",
    "    count_dict = {}\n",
    "    \n",
    "    if \"G\" in seq and \"C\" in seq:\n",
    "        for i in set(seq):\n",
    "            count_dict[i] = seq.count(i)\n",
    "        return round(((count_dict[\"C\"] + count_dict[\"G\"])/len(seq))*100,2)\n",
    "\n",
    "    elif \"G\" not in seq and \"C\" not in seq:\n",
    "        return 0.0\n",
    "\n",
    "    elif \"C\" not in seq:\n",
    "        for i in set(seq):\n",
    "            count_dict[i] = seq.count(i)\n",
    "        return round(((count_dict[\"G\"])/len(seq))*100,2)\n",
    "\n",
    "    elif \"G\" not in seq:\n",
    "        for i in set(seq):\n",
    "            count_dict[i] = seq.count(i)\n",
    "        return round((((count_dict[\"C\"])/len(seq))*100),2)\n"
   ]
  },
  {
   "cell_type": "markdown",
   "metadata": {},
   "source": [
    "# Exercise 4: Level 7 (Easy)\n",
    "\n",
    "### Locate the fisrt motif in a sequence\n",
    "\n",
    "In genetics, a **sequence’s motif** is a nucleotides (or amino-acid) **sequence pattern**. Sequence motifs have a biological significance. For more information you can take a look [here](https://en.wikipedia.org/wiki/Sequence_motif).\n",
    "\n",
    "For this kata you need to complete the function motif_locator. This function receives 2 arguments - a sequence and a motif. Both arguments are strings.\n",
    "\n",
    "You should return an array that contains all the start positions of the motif (in order). A sequence may contain 0 or more repetitions of the given motif. Note that the number of the first position is 1, not 0.\n",
    "\n",
    "Some examples:\n",
    "\n",
    "* For the sequence \"ACGTGGGGACTAGGGG\" and the motif \"GGGG\" the result should be [5, 13].\n",
    "* For the sequence \"ACCGTACCAAGGGACC\" and the motif \"AAT\" the result should be []\n",
    "* For the sequence \"GGG\" and the motif \"GG\" the result should be [1, 2]"
   ]
  },
  {
   "cell_type": "code",
   "execution_count": 94,
   "metadata": {},
   "outputs": [],
   "source": [
    "# to get the index\n",
    "\n",
    "def first_motif_locator(seq, motif):\n",
    "    \n",
    "    \"\"\"returns the starting and end position of the  first motif found in a sequence\"\"\"\n",
    "    \n",
    "    if motif in seq:\n",
    "        start = seq.find(motif) + 1\n",
    "        end = start + len(motif)\n",
    "        return [start, end]\n",
    "    else:\n",
    "        return []\n",
    "    \n",
    "def motif_locator_first_hits(seq, motif):\n",
    "    \n",
    "    \"\"\"returns the starting position fisrt encountered motifs\"\"\"\n",
    "    \n",
    "    import re\n",
    "    matches = re.finditer(motif, seq)\n",
    "    matches_positions = [match.start() + 1 for match in matches]\n",
    "    \n",
    "    return matches_positions\n",
    "\n",
    "\n",
    "\n",
    "# Sol 1\n",
    "\n",
    "def motif_locator(sequence, motif):\n",
    "    res, i = [], 0\n",
    "    while True:\n",
    "        i = sequence.find(motif, i) + 1\n",
    "        if not i: return res\n",
    "        res.append(i)\n",
    "\n",
    "\n",
    "# Sol 2\n",
    "\n",
    "def motif_locator(seq, motif):\n",
    "    \n",
    "    \"\"\"returns the starting position of all the motifs\"\"\"\n",
    "    \n",
    "    import re\n",
    "\n",
    "    motif_re = re.compile(r\"{}\".format(motif))\n",
    "    start = 0\n",
    "    indexes = []\n",
    "\n",
    "    for i in range(len(seq)):\n",
    "        try:\n",
    "            width_window = len(motif)\n",
    "            end = start + width_window \n",
    "            window = seq[start:end]\n",
    "            motif_found = motif_re.search(window).span(0)[0] # getting start of index\n",
    "            indexes.append(start+1) # appending the position where motif is found\n",
    "            \n",
    "        except AttributeError: # index not found\n",
    "            pass\n",
    "\n",
    "        start += 1 # at the end of each iter, increase starting index by 1\n",
    "        \n",
    "    return indexes"
   ]
  },
  {
   "cell_type": "code",
   "execution_count": 179,
   "metadata": {},
   "outputs": [
    {
     "data": {
      "text/plain": [
       "[]"
      ]
     },
     "execution_count": 179,
     "metadata": {},
     "output_type": "execute_result"
    }
   ],
   "source": [
    "seq = \"AGGTGACACCGCAAGCCTTATATTAGC\"\n",
    "mot = \"AGC\"\n",
    "motif_locator(seq, mot)"
   ]
  },
  {
   "cell_type": "markdown",
   "metadata": {},
   "source": [
    "# Exercise 5: Level 7 (Easy). \n",
    "\n",
    "## code_for_same_protein?\n",
    "\n",
    "In genetics 2 differents DNAs sequences can code for the same protein.\n",
    "\n",
    "This is due to the redundancy of the genetic code, in fact 2 different tri-nucleotide can code for the same amino-acid. For example the tri-nucleotide 'TTT' and the tri-nucleotide 'TTC' both code for the amino-acid 'F'. For more information you can take a look here.\n",
    "\n",
    "Your goal in this kata is to define if two differents DNAs sequences code for exactly the same protein. Your function take the 2 sequences you should compare. For some kind of simplicity here the sequences will respect the following rules:\n",
    "\n",
    "It is a full protein sequence beginning with a Start codon and finishing by an Stop codon\n",
    "It will only contain valid tri-nucleotide.\n",
    "\n",
    "The translation hash is available for you under codons [Python and JavaScript].\n",
    "\n",
    "To better understand this kata you can take a look at this one, it can help you to start."
   ]
  },
  {
   "cell_type": "code",
   "execution_count": 8,
   "metadata": {},
   "outputs": [],
   "source": [
    "# Sol 1 \n",
    "\n",
    "def code_for_same_protein(seq1,seq2):\n",
    "    for x in range(0,len(seq1),3):\n",
    "        if codons[seq1[x:x+3]] != codons[seq2[x:x+3]]:\n",
    "            return False\n",
    "    return True\n",
    "\n",
    "# Sol 2\n",
    "\n",
    "def codeForSameProtein(seq1, seq2):\n",
    "    \n",
    "    \"\"\"this function translate two DNA seq into protein seq and compare whether if they encode the same protein\n",
    "    This is a simplified function that assumes the DNA seq start with a start codon and contain valid-codon triples\"\"\"\n",
    "    \n",
    "    __CODON_DICT__ = {'AAT': 'N', 'AAC': 'N',\n",
    "              'AAA': 'K', 'AAG': 'K',\n",
    "              'ACT': 'T', 'ACC': 'T', 'ACA': 'T', 'ACG': 'T',\n",
    "              'AGT': 'S', 'AGC': 'S',\n",
    "              'AGA': 'R', 'AGG': 'R',\n",
    "              'ATT': 'I', 'ATC': 'I', 'ATA': 'I',\n",
    "              'ATG': 'M',\n",
    "              'CAT': 'H', 'CAC': 'H',\n",
    "              'CAA': 'Q', 'CAG': 'Q',\n",
    "              'CCT': 'P', 'CCC': 'P', 'CCA': 'P', 'CCG': 'P',\n",
    "              'CGT': 'R', 'CGC': 'R', 'CGA': 'R', 'CGG': 'R',\n",
    "              'CTT': 'L', 'CTC': 'L', 'CTA': 'L', 'CTG': 'L',\n",
    "              'GAT': 'D', 'GAC': 'D',\n",
    "              'GAA': 'E', 'GAG': 'E',\n",
    "              'GCT': 'A', 'GCC': 'A', 'GCA': 'A', 'GCG': 'A',\n",
    "              'GGT': 'G', 'GGC': 'G', 'GGA': 'G', 'GGG': 'G',\n",
    "              'GTT': 'V', 'GTC': 'V', 'GTA': 'V', 'GTG': 'V',\n",
    "              'TAT': 'Y', 'TAC': 'Y',\n",
    "              'TAA': '*', 'TAG': '*',\n",
    "              'TCT': 'S', 'TCC': 'S', 'TCA': 'S', 'TCG': 'S',\n",
    "              'TGT': 'C', 'TGC': 'C',\n",
    "              'TGA': '*',\n",
    "              'TGG': 'W',\n",
    "              'TTT': 'F', 'TTC': 'F',\n",
    "              'TTA': 'L', 'TTG': 'L'}\n",
    "        \n",
    "    # 1 Get the list of triplets for each sequences\n",
    "    \n",
    "    seq1_triplets = [seq1[i:i+3] for i in range(len(seq1)) if i % 3 == 0]\n",
    "    \n",
    "    seq2_triplets = [seq2[i:i+3] for i in range(len(seq2)) if i % 3 == 0]\n",
    "    \n",
    "    # 2 Translate the DNA seq into aa sequences\n",
    "    \n",
    "    seq1_aa = []\n",
    "    \n",
    "    seq2_aa = []\n",
    "    \n",
    "    try:\n",
    "        for i in seq1_triplets:\n",
    "            seq1_aa.append(__CODON_DICT__[i])\n",
    "    except KeyError:\n",
    "        pass\n",
    "    \n",
    "    try:\n",
    "        for i in seq2_triplets:\n",
    "            seq2_aa.append(__CODON_DICT__[i])\n",
    "    except KeyError:\n",
    "        pass\n",
    "    \n",
    "    # 3. Compare both aa sequences and return True if they are the same\n",
    "    \n",
    "    if \"\".join(seq1_aa) == \"\".join(seq2_aa):\n",
    "        \n",
    "        return True\n",
    "    else:\n",
    "        \n",
    "        return False\n",
    "        \n",
    "            \n",
    "    "
   ]
  },
  {
   "cell_type": "code",
   "execution_count": 9,
   "metadata": {},
   "outputs": [],
   "source": [
    "seq1, seq2 = \"ATGTCGTCAATTTAA\",\"ATGTCGTCAATTTAA\""
   ]
  },
  {
   "cell_type": "code",
   "execution_count": 10,
   "metadata": {},
   "outputs": [
    {
     "data": {
      "text/plain": [
       "True"
      ]
     },
     "execution_count": 10,
     "metadata": {},
     "output_type": "execute_result"
    }
   ],
   "source": [
    "codeForSameProtein(seq1, seq2)"
   ]
  },
  {
   "cell_type": "markdown",
   "metadata": {},
   "source": [
    "# Exercise 6: Level 7 (Easy). \n",
    "\n",
    "### Reverse complement (DNA )\n",
    "\n",
    "In genetic the reverse complement of a sequence is formed by reversing the sequence and then taking the complement of each symbol.\n",
    "\n",
    "The four nucleotides in DNA is Adenine (A), Cytosine (C), Guanine (G) and Thymine (Thymine).\n",
    "\n",
    "A is the complement of T\n",
    "C is the complement of G.\n",
    "This is a bi-directional relation so:\n",
    "\n",
    "T is the complement of A\n",
    "G is the complement of C.\n",
    "For this kata you need to complete the reverse complement function that take a DNA string and return the reverse complement string.\n",
    "\n",
    "Note: You need to take care of lower and upper case. And if a sequence conatains some invalid characters you need to return \"Invalid sequence\"."
   ]
  },
  {
   "cell_type": "code",
   "execution_count": 42,
   "metadata": {},
   "outputs": [],
   "source": [
    "def reverse_complement(dna):\n",
    "    \n",
    "    # 1. Get the reverse seq\n",
    "    dna_rev =''.join(reversed(dna))\n",
    "    # 2. Get the complementary\n",
    "    \n",
    "    try:\n",
    "        pairs = {'A':'T','T':'A','C':'G','G':'C'}\n",
    "        dna_rev_comp = ''.join([pairs[x] for x in dna_rev])\n",
    "        \n",
    "    except KeyError:\n",
    "        return \"Invalid sequence\" # Handling invalid DNA sequences\n",
    "    \n",
    "    return dna_rev_comp\n",
    "\n"
   ]
  },
  {
   "cell_type": "code",
   "execution_count": 43,
   "metadata": {},
   "outputs": [],
   "source": [
    "seq=\"XYZ\""
   ]
  },
  {
   "cell_type": "code",
   "execution_count": 44,
   "metadata": {},
   "outputs": [
    {
     "data": {
      "text/plain": [
       "'Invalid sequence'"
      ]
     },
     "execution_count": 44,
     "metadata": {},
     "output_type": "execute_result"
    }
   ],
   "source": [
    "reverse_complement(seq)"
   ]
  },
  {
   "cell_type": "markdown",
   "metadata": {},
   "source": [
    "# Exercise 7: Level 7 (Easy) \n",
    "\n",
    "### Decompose single strand DNA into 3 reading frames.\n",
    "\n",
    "In genetics a reading frame is a way to divide a sequence of nucleotides (DNA bases) into a set of consecutive non-overlapping triplets (also called codon). Each of this triplets is translated into an amino-acid during a translation process to create proteins.\n",
    "\n",
    "**Input**\n",
    "\n",
    "In a single strand of DNA you find 3 Reading frames, take for example the following input sequence:\n",
    "\n",
    "AGGTGACACCGCAAGCCTTATATTAGC\n",
    "\n",
    "**Output**\n",
    "\n",
    "For the output we are going to take the combinations and show them in the following manner:\n",
    "\n",
    "* Frame 1: AGG TGA CAC CGC AAG CCT TAT ATT AGC\n",
    "* Frame 2: A GGT GAC ACC GCA AGC CTT ATA TTA GC\n",
    "* Frame 3: AG GTG ACA CCG CAA GCC TTA TAT TAG C\n",
    "\n",
    "For frame 1 split all of them in groups of three starting by the first base (letter).\n",
    "\n",
    "For frame 2 split all of them in groups of three starting by the second base (letter) but having the first base (letter) at the beggining.\n",
    "\n",
    "For frame 3 split all of them in groups of three starting by the third letter, but having the first and second bases (letters) at the beginning in the same order.\n",
    "\n"
   ]
  },
  {
   "cell_type": "code",
   "execution_count": 331,
   "metadata": {},
   "outputs": [],
   "source": [
    "\n",
    "# Sol 1\n",
    "\n",
    "def decompose_single_strand(single_strand):\n",
    "    f1 = 'Frame 1: {}'.format(decompose(single_strand))\n",
    "    f2 = 'Frame 2: {} {}'.format(single_strand[:1], decompose(single_strand[1:]))\n",
    "    f3 = 'Frame 3: {} {}'.format(single_strand[:2], decompose(single_strand[2:]))\n",
    "    return '\\n'.join([f1, f2, f3])\n",
    "    \n",
    "def decompose(strand):\n",
    "    return ' '.join([strand[i: i + 3] for i in range(0, len(strand), 3)])\n",
    "\n",
    "\n",
    "# Sol  2\n",
    "\n",
    "def frames_x_3(seq):\n",
    "    frame_1 = []\n",
    "    frame_2 = []\n",
    "    frame_3 = []\n",
    "    for i in range(len(seq)):\n",
    "        if i % 3 == 0:\n",
    "\n",
    "            c_1 = seq[i:i+3]\n",
    "            frame_1.append(c_1)\n",
    "\n",
    "            c_2 = seq[i+1:i+4]\n",
    "            frame_2.append(c_2)\n",
    "\n",
    "            c_3 = seq[i+2:i+5]\n",
    "            frame_3.append(c_3)\n",
    "            \n",
    "    frame_1 = \" \".join(frame_1)\n",
    "    frame_2 = seq[0] + \" \" + \" \".join(frame_2)\n",
    "    frame_3 = seq[:2] + \" \" + \" \".join(frame_3)\n",
    "            \n",
    "    return \"Frame 1: \" + frame_1 + \"\\nFrame 2: \" + frame_2 + \"\\nFrame 3: \" + frame_3\n"
   ]
  },
  {
   "cell_type": "code",
   "execution_count": 328,
   "metadata": {},
   "outputs": [],
   "source": [
    "seq = \"AGGTGACACCGCAAGCCTTATATTAGC\""
   ]
  },
  {
   "cell_type": "code",
   "execution_count": 330,
   "metadata": {},
   "outputs": [
    {
     "name": "stdout",
     "output_type": "stream",
     "text": [
      "Frame 1: AGG TGA CAC CGC AAG CCT TAT ATT AGC\n",
      "Frame 2: A GGT GAC ACC GCA AGC CTT ATA TTA GC\n",
      "Frame 3: AG GTG ACA CCG CAA GCC TTA TAT TAG C\n"
     ]
    }
   ],
   "source": [
    "frames_x_3(seq)"
   ]
  },
  {
   "cell_type": "markdown",
   "metadata": {},
   "source": [
    "# Exercise 8: Level 7 (Easy). \n",
    "\n",
    "### Genetic Algorithm Series - #1 Generate\n",
    "\n",
    "A genetic algorithm is based in groups of chromosomes, called populations. To start our population of chromosomes we need to generate random binary strings with a specified length.\n",
    "\n",
    "In this kata you have to implement a function generate that receives a length and has to return a random binary strign with length characters."
   ]
  },
  {
   "cell_type": "code",
   "execution_count": 166,
   "metadata": {},
   "outputs": [],
   "source": [
    "def generate(length):\n",
    "    import random\n",
    "    lis=[]\n",
    "    for i in range(length):\n",
    "        lis.append(str(random.randrange(0,2)))\t\n",
    "    return \"\".join(lis)"
   ]
  },
  {
   "cell_type": "code",
   "execution_count": 167,
   "metadata": {},
   "outputs": [
    {
     "data": {
      "text/plain": [
       "'0100'"
      ]
     },
     "execution_count": 167,
     "metadata": {},
     "output_type": "execute_result"
    }
   ],
   "source": [
    "generate(4)"
   ]
  },
  {
   "cell_type": "markdown",
   "metadata": {},
   "source": [
    "# Exercise 9: Level 7 (Easy). \n",
    "\n",
    "### Genetic Algorithm Series - #2 Mutation\n",
    "\n",
    "Mutation is a genetic operator used to maintain genetic diversity from one generation of a population of genetic algorithm chromosomes to the next.\n",
    "\n",
    "A mutation here may happen on zero or more positions in a chromosome. It is going to check every position and by a given probability it will decide if a mutation will occur.\n",
    "\n",
    "A mutation is the change from 0 to 1 or from 1 to 0.\n",
    "\n",
    "Note: Some tests are random. If you think your algorithm is correct but the result fails, trying again should work.\n"
   ]
  },
  {
   "cell_type": "code",
   "execution_count": 119,
   "metadata": {},
   "outputs": [],
   "source": [
    "# Sol 1\n",
    "\n",
    "\n",
    "def mutate(chromosome, p):\n",
    "    \n",
    "    import random\n",
    "    mut_ch=[]\n",
    "    for i in chromosome: \n",
    "        if int(i) == 0:\n",
    "            rand = random.choices([0,1], [1-p, p])\n",
    "            mut_ch.append(str(rand[0]))\n",
    "            \n",
    "        elif int(i) == 1:\n",
    "            rand = random.choices([0,1], [p, 1-p])\n",
    "            mut_ch.append(str(rand[0]))\n",
    "            \n",
    "    return \"\".join(mut_ch)\n",
    "\n",
    "# Sol 2\n",
    "\n",
    "from random import random\n",
    "def mutate(chromosome, p):\n",
    "    res = ''\n",
    "    for s in chromosome:\n",
    "        res += str(1 - int(s)) if random() < p else s\n",
    "    return res\n",
    "            \n",
    "        "
   ]
  },
  {
   "cell_type": "code",
   "execution_count": 121,
   "metadata": {},
   "outputs": [
    {
     "data": {
      "text/plain": [
       "'10001011'"
      ]
     },
     "execution_count": 121,
     "metadata": {},
     "output_type": "execute_result"
    }
   ],
   "source": [
    "mutate(\"00001111\", 0.25)"
   ]
  },
  {
   "cell_type": "markdown",
   "metadata": {},
   "source": [
    "# Exercise 10: Level 7 (Easy) \n",
    "\n",
    "### Genetic Algorithm Series - #3 Crossover\n",
    "\n",
    "In genetic algorithms, crossover is a genetic operator used to vary the programming of chromosomes from one generation to the next.\n",
    "\n",
    "The one-point crossover consists in swapping one's cromosome part with another in a specific given point. The image bellow shows the crossover being applied on chromosomes 1011011001111 and 1011100100110 with the cut point (index) 4:\n",
    "\n",
    "In this kata you have to implement a function crossover that receives two chromosomes chromosome1, chromosome2 and a zero-based index and it has to return an array with the crossover result on both chromosomes [chromosome1, chromosome2]."
   ]
  },
  {
   "cell_type": "code",
   "execution_count": 139,
   "metadata": {},
   "outputs": [],
   "source": [
    "def  crossover(chromosome1, chromosome2, index):\n",
    "    return [chromosome1[:index] + chromosome2[index:], chromosome2[:index] + chromosome1[index:]]\n",
    "    "
   ]
  },
  {
   "cell_type": "code",
   "execution_count": 140,
   "metadata": {},
   "outputs": [
    {
     "data": {
      "text/plain": [
       "['111110', '000000']"
      ]
     },
     "execution_count": 140,
     "metadata": {},
     "output_type": "execute_result"
    }
   ],
   "source": [
    "crossover(\"111000\", \"000110\", 3)"
   ]
  },
  {
   "cell_type": "markdown",
   "metadata": {},
   "source": [
    "# Exercise 11: Level 7 (Easy) \n",
    "\n",
    "### Genetic Algorithm Series - #4 Get population and fitnesses\n",
    "\n",
    "In a genetic algorithm, a population is a collection of candidates that may evolve toward a better solution.\n",
    "\n",
    "We determine how close a chromosome is to a ideal solution by calculating its fitness. https://www.codewars.com/kata/567b468357ed7411be00004a/train You are given two parameters, the population containing all individuals and a function fitness that determines how close to the solution a chromosome is.\n",
    "\n",
    "Your task is to return a collection containing an object with the chromosome and the calculated fitness.\n",
    "\n",
    "[\n",
    "  { chromosome: c, fitness: f },\n",
    "  { chromosome: c, fitness: f },\n",
    "  ...\n",
    "]\n",
    "Note: you have a pre-loaded namedtuple ChromosomeWrap and you should return a collection of it instead.\n",
    "\n",
    "ChromosomeWrap = namedtuple(\"ChromosomeWrap\", [\"chromosome\", \"fitness\"])\n"
   ]
  },
  {
   "cell_type": "code",
   "execution_count": 154,
   "metadata": {},
   "outputs": [],
   "source": [
    "population = ['10100111', '11011100', '01000101', '01110000']\n",
    "expected = [0.375, 0.625, 0.375, 0.875]\n",
    "\n",
    "def fitness(c):\n",
    "    ideal = '11110000'\n",
    "    return float(len([a for a, b in zip(c, ideal) if a == b])) / len(ideal)\n",
    "\n"
   ]
  },
  {
   "cell_type": "code",
   "execution_count": 152,
   "metadata": {},
   "outputs": [
    {
     "data": {
      "text/plain": [
       "0.875"
      ]
     },
     "execution_count": 152,
     "metadata": {},
     "output_type": "execute_result"
    }
   ],
   "source": [
    "fitness(\"11110001\")"
   ]
  },
  {
   "cell_type": "code",
   "execution_count": 160,
   "metadata": {},
   "outputs": [],
   "source": [
    "population = ['10100111', '11011100', '01101000','10110101'] "
   ]
  },
  {
   "cell_type": "code",
   "execution_count": 162,
   "metadata": {},
   "outputs": [],
   "source": [
    "def map_population_fit(population, fitness):\n",
    "    fit = []\n",
    "    for p in population:\n",
    "        fit.append(fitness(p))\n",
    "    return tuple(zip(population, fit))"
   ]
  },
  {
   "cell_type": "code",
   "execution_count": 163,
   "metadata": {},
   "outputs": [
    {
     "data": {
      "text/plain": [
       "(('10100111', 0.375),\n",
       " ('11011100', 0.625),\n",
       " ('01101000', 0.625),\n",
       " ('10110101', 0.625))"
      ]
     },
     "execution_count": 163,
     "metadata": {},
     "output_type": "execute_result"
    }
   ],
   "source": [
    "map_population_fit(population, fitness)"
   ]
  },
  {
   "cell_type": "code",
   "execution_count": null,
   "metadata": {},
   "outputs": [],
   "source": []
  },
  {
   "cell_type": "markdown",
   "metadata": {},
   "source": [
    "# Exercise 12: Level 6 (Intermediate). \n",
    "\n",
    "Write a function checkDNA that takes in two DNA sequences as strings, and checks if they are fit to form a fully complementary DNA double helix. \n",
    "The function should return a Boolean true if they are complementary, and false if there is a sequence mismatch"
   ]
  },
  {
   "cell_type": "code",
   "execution_count": 56,
   "metadata": {},
   "outputs": [],
   "source": [
    "\n",
    "\n",
    "\n",
    "# Sol 1\n",
    "\n",
    "from string import maketrans\n",
    "\n",
    "def check_DNA(seq1, seq2):\n",
    "    seq1 = seq1.translate(maketrans(\"ATGC\", \"TACG\"))\n",
    "    return seq1 in seq2[::-1] or seq2[::-1] in seq1\n",
    "\n",
    "\n",
    "\n",
    "# Sol 2\n",
    "\n",
    "def check_DNA (seq1, seq2):\n",
    "    \n",
    "    \"\"\"checks if two dna seqs are complementary\"\"\"\n",
    "    \n",
    "    # 1. lets make seq1 always the shortest\n",
    "    if len(seq1) > len(seq2): \n",
    "        \n",
    "        seq1, seq2 = seq2, seq1\n",
    "\n",
    "    # 2. get the complementary strand of the sortest seq(seq1)\n",
    "    \n",
    "    pairs = {'A':'T','T':'A','C':'G','G':'C'}\n",
    "    \n",
    "    comp_seq1 = ''.join([pairs[x] for x in seq1])\n",
    "        \n",
    "    # 3. get the reverse direction for the largest strand (seq2)\n",
    "    \n",
    "    seq2 =''.join(reversed(seq2))\n",
    "    \n",
    "    \n",
    "    # 4. Check if comp_seq1 in seq2\n",
    "\n",
    "    if comp_seq1 in seq2: \n",
    "        return True\n",
    "    \n",
    "    else:\n",
    "        return False\n",
    "    \n"
   ]
  },
  {
   "cell_type": "code",
   "execution_count": 57,
   "metadata": {},
   "outputs": [
    {
     "name": "stdout",
     "output_type": "stream",
     "text": [
      "CGCGACGATCGACTAGCT\n",
      "CATCGCGACGATCGACTAGCTAGCATGCA\n"
     ]
    },
    {
     "data": {
      "text/plain": [
       "True"
      ]
     },
     "execution_count": 57,
     "metadata": {},
     "output_type": "execute_result"
    }
   ],
   "source": [
    "check_DNA('ACGTACGATCGATCAGCTAGCAGCGCTAC', 'GCGCTGCTAGCTGATCGA')"
   ]
  },
  {
   "cell_type": "code",
   "execution_count": null,
   "metadata": {},
   "outputs": [],
   "source": []
  },
  {
   "cell_type": "markdown",
   "metadata": {},
   "source": [
    "## Exercise 13: Level 6 (Intermediate)\n",
    "    \n",
    "### RNA to Protein Sequence Translation\n",
    "\n",
    "The central dogma of molecular biology is that DNA is transcribed into RNA, which is then tranlsated into protein. RNA, like DNA, is a long strand of nucleic acids held together by a sugar backbone (ribose in this case). Each segment of three bases is called a codon. Molecular machines called ribosomes translate the RNA codons into amino acid chains, called polypeptides which are then folded into a protein.\n",
    "\n",
    "Protein sequences are easily visualized in much the same way that DNA and RNA are, as large strings of letters. An important thing to note is that the 'Stop' codons do not encode for a specific amino acid. Their only function is to stop translation of the protein, as such they are not incorporated into the polypeptide chain. 'Stop' codons should not be in the final protein sequence. To save a you a lot of unnecessary (and boring) typing the keys and values for your amino acid dictionary are provided.\n",
    "\n",
    "Given a string of RNA, create a funciton which translates the RNA into its protein sequence. Note: the test cases will always produce a valid string.\n",
    "\n",
    "protein('UGCGAUGAAUGGGCUCGCUCC') returns 'CDEWARS'\n",
    "\n",
    "Included as test cases is a real world example! The last example test case encodes for a protein called green fluorescent protein; once spliced into the genome of another organism, proteins like GFP allow biologists to visualize cellular processes!\n",
    "\n",
    "Amino Acid Dictionary\n"
   ]
  },
  {
   "cell_type": "code",
   "execution_count": 14,
   "metadata": {},
   "outputs": [],
   "source": [
    "# Sol 1\n",
    "\n",
    "def protein(rna):\n",
    "    return ''.join([acids[rna[q:q+3]] for q in xrange(0, len(rna), 3)])\n",
    "\n",
    "\n",
    "# Sol 2\n",
    "\n",
    "def protein(rna):\n",
    "    \n",
    "    __CODON_DICT__ = {'AAU': 'N', 'AAC': 'N',\n",
    "              'AAA': 'K', 'AAG': 'K',\n",
    "              'ACU': 'T', 'ACC': 'T', 'ACA': 'T', 'ACG': 'T',\n",
    "              'AGU': 'S', 'AGC': 'S',\n",
    "              'AGA': 'R', 'AGG': 'R',\n",
    "              'AUU': 'I', 'AUC': 'I', 'AUA': 'I',\n",
    "              'AUG': 'M',\n",
    "              'CAU': 'H', 'CAC': 'H',\n",
    "              'CAA': 'Q', 'CAG': 'Q',\n",
    "              'CCU': 'P', 'CCC': 'P', 'CCA': 'P', 'CCG': 'P',\n",
    "              'CGU': 'R', 'CGC': 'R', 'CGA': 'R', 'CGG': 'R',\n",
    "              'CUU': 'L', 'CUC': 'L', 'CUA': 'L', 'CUG': 'L',\n",
    "              'GAU': 'D', 'GAC': 'D',\n",
    "              'GAA': 'E', 'GAG': 'E',\n",
    "              'GCU': 'A', 'GCC': 'A', 'GCA': 'A', 'GCG': 'A',\n",
    "              'GGU': 'G', 'GGC': 'G', 'GGA': 'G', 'GGG': 'G',\n",
    "              'GUU': 'V', 'GUC': 'V', 'GUA': 'V', 'GUG': 'V',\n",
    "              'UAU': 'Y', 'UAC': 'Y',\n",
    "              'UAA': '', 'UAG': '',\n",
    "              'UCU': 'S', 'UCC': 'S', 'UCA': 'S', 'UCG': 'S',\n",
    "              'UGU': 'C', 'UGC': 'C',\n",
    "              'UGA': '',\n",
    "              'UGG': 'W',\n",
    "              'UUU': 'F', 'UUC': 'F',\n",
    "              'UUA': 'L', 'UUG': 'L'}\n",
    "    \n",
    "    rna_triplets = [rna[i:i+3] for i in range(len(rna)) if i % 3 == 0]\n",
    "    \n",
    "    \n",
    "    rna_aa = []\n",
    "    \n",
    "    try:\n",
    "        for i in rna_triplets:\n",
    "            rna_aa.append(__CODON_DICT__[i])\n",
    "    except KeyError:\n",
    "        pass\n",
    "    \n",
    "    return \"\".join(rna_aa)"
   ]
  },
  {
   "cell_type": "code",
   "execution_count": 15,
   "metadata": {},
   "outputs": [],
   "source": [
    "rna = \"UGCGAUGAAUGGGCUCGCUCC\""
   ]
  },
  {
   "cell_type": "code",
   "execution_count": 16,
   "metadata": {},
   "outputs": [
    {
     "data": {
      "text/plain": [
       "'CDEWARS'"
      ]
     },
     "execution_count": 16,
     "metadata": {},
     "output_type": "execute_result"
    }
   ],
   "source": [
    "protein(rna)"
   ]
  },
  {
   "cell_type": "code",
   "execution_count": null,
   "metadata": {},
   "outputs": [],
   "source": []
  },
  {
   "cell_type": "markdown",
   "metadata": {},
   "source": [
    "# Exercise 14: Level 6 (Intermediate)\n",
    "\n",
    "### Decompose double strand DNA into 6 reading frames\n",
    "\n",
    "In a double strand DNA you find 3 more Reading frames than the single strand DNA reading frames base on the reverse complement-strand.\n",
    "\n",
    "**Input**\n",
    "\n",
    "Given a DNA sequence like the following\n",
    "\n",
    "AGGTGACACCGCAAGCCTTATATTAGC\n",
    "\n",
    "**Processing**\n",
    "\n",
    "In the reverse complement the following transformations are made\n",
    "\n",
    "* A-->T\n",
    "* G-->C\n",
    "* T-->A\n",
    "* C-->G\n",
    "\n",
    "Due to the splicing of DNA strands and the fixed reading direction of a nucleotide strand, the reverse complement gets read from right to left.\n",
    "\n",
    "DNA                     AGGTGACACCGCAAGCCTTATATTAGC\n",
    "Reverse complement:     TCCACTGTGGCGTTCGGAATATAATCG  \n",
    "reversed reverse frame: GCTAATATAAGGCTTGCGGTGTCACCT\n",
    "\n",
    "Output\n",
    "You'll have to output:\n",
    "\n",
    "* Frame 1: AGG TGA CAC CGC AAG CCT TAT ATT AGC\n",
    "* Frame 2: A GGT GAC ACC GCA AGC CTT ATA TTA GC\n",
    "* Frame 3: AG GTG ACA CCG CAA GCC TTA TAT TAG C\n",
    "\n",
    "\n",
    "* Reverse Frame 1: GCT AAT ATA AGG CTT GCG GTG TCA CCT\n",
    "* Reverse Frame 2: G CTA ATA TAA GGC TTG CGG TGT CAC CT\n",
    "* Reverse Frame 3: GC TAA TAT AAG GCT TGC GGT GTC ACC T\n",
    "\n",
    "Instructions on how to output the first 3 frames are on a previous simpler kata Decompose single strand DNA into 3 reading frames"
   ]
  },
  {
   "cell_type": "code",
   "execution_count": 30,
   "metadata": {},
   "outputs": [],
   "source": [
    "\n",
    "def frames_x_6(seq):\n",
    "    \n",
    "    \"\"\"returns the 6 frames from a given double strand seq\"\"\"\n",
    "    \n",
    "    pairs = {'A':'T','T':'A','C':'G','G':'C'}\n",
    "\n",
    "    \n",
    "    seq_2 = ''.join([pairs[x] for x in seq])\n",
    "    seq_2 =''.join(reversed(seq_2))\n",
    "    \n",
    "    \n",
    "    frame_1 = []\n",
    "    frame_2 = []\n",
    "    frame_3 = []\n",
    "    frame_1_r = []\n",
    "    frame_2_r = []\n",
    "    frame_3_r = []\n",
    "    \n",
    "    for i in range(len(seq_2)):\n",
    "        if i % 3 == 0:\n",
    "            \n",
    "            c_1 = seq[i:i+3]\n",
    "            frame_1.append(c_1)\n",
    "\n",
    "            c_2 = seq[i+1:i+4]\n",
    "            frame_2.append(c_2)\n",
    "\n",
    "            c_3 = seq[i+2:i+5]\n",
    "            frame_3.append(c_3)\n",
    "\n",
    "            c_1 = seq_2[i:i+3]\n",
    "            frame_1_r.append(c_1)\n",
    "\n",
    "            c_2 = seq_2[i+1:i+4]\n",
    "            frame_2_r.append(c_2)\n",
    "\n",
    "            c_3 = seq_2[i+2:i+5]\n",
    "            frame_3_r.append(c_3)\n",
    "        \n",
    "\n",
    "    frame_1 = \" \".join(frame_1)\n",
    "    frame_2 = seq[0] + \" \" + \" \".join(frame_2)\n",
    "    frame_3 = seq[:2] + \" \" + \" \".join(frame_3)\n",
    "    \n",
    "    frame_1_r = \" \".join(frame_1_r)\n",
    "    frame_2_r = seq_2[0] + \" \" + \" \".join(frame_2_r)\n",
    "    frame_3_r = seq_2[:2] + \" \" + \" \".join(frame_3_r)\n",
    "            \n",
    "    return print(\"Frame 1: \" + frame_1 + \"\\nFrame 2: \" + frame_2 + \"\\nFrame 3: \" + frame_3 + \"\\n\" + \"\\nReverse Frame 1: \" + frame_1_r + \"\\nReverse Frame 2: \" + frame_2_r + \"\\nReverse Frame 3: \" + frame_3_r)\n"
   ]
  },
  {
   "cell_type": "code",
   "execution_count": 27,
   "metadata": {},
   "outputs": [],
   "source": [
    "seq = \"AGGTGACACCGCAAGCCTTATATTAGC\""
   ]
  },
  {
   "cell_type": "code",
   "execution_count": 9,
   "metadata": {},
   "outputs": [
    {
     "data": {
      "text/plain": [
       "'GCTAATATAAGGCTTGCGGTGTCACCT'"
      ]
     },
     "execution_count": 9,
     "metadata": {},
     "output_type": "execute_result"
    }
   ],
   "source": [
    "DNA_complementary_reversed(seq)"
   ]
  },
  {
   "cell_type": "code",
   "execution_count": 29,
   "metadata": {},
   "outputs": [
    {
     "name": "stdout",
     "output_type": "stream",
     "text": [
      "Frame 1: AGG TGA CAC CGC AAG CCT TAT ATT AGC\n",
      "Frame 2: A GGT GAC ACC GCA AGC CTT ATA TTA GC\n",
      "Frame 3: AG GTG ACA CCG CAA GCC TTA TAT TAG C\n",
      "\n",
      "Reverse Frame 1: GCT AAT ATA AGG CTT GCG GTG TCA CCT\n",
      "Reverse Frame 2: G CTA ATA TAA GGC TTG CGG TGT CAC CT\n",
      "Reverse Frame 3: GC TAA TAT AAG GCT TGC GGT GTC ACC T\n"
     ]
    }
   ],
   "source": [
    "frames_x_6(seq) # we could also pass a func as an arg. The output od the function will be used as an argument"
   ]
  },
  {
   "cell_type": "markdown",
   "metadata": {},
   "source": [
    "# Exercise 15: Level 5 (Intermediate).\n",
    "\n",
    "A reading frame is a way to divide a sequence of nucleotides (DNA bases) into a set of consecutive non-overlapping triplets (also called codon).\n",
    "Each of this triplets is translated into an amino-acid during a translation process to create proteins.\n",
    "\n",
    "In a single strand of DNA you find 3 Reading frames, for example the following sequence:\n",
    "\n",
    "AGGTGACACCGCAAGCCTTATATTAGC\n",
    "will be decompose in:\n",
    "\n",
    "* Frame 1: AGG·TGA·CAC·CGC·AAG·CCT·TAT·ATT·AGC\n",
    "* Frame 2: A·GGT·GAC·ACC·GCA·AGC·CTT·ATA·TTA·GC\n",
    "* Frame 3: AG·GTG·ACA·CCG·CAA·GCC·TTA·TAT·TAG·C    \n",
    "\n",
    "\n",
    "In a double strand DNA you find 3 more Reading frames base on the reverse complement-strand, given the previous DNA sequence, in the reverse complement ( A-->T, G-->C, T-->A, C-->G). Due to the splicing of DNA strands and the fixed reading direction of a nucleotide strand, the reverse complement gets read from right to left\n",
    "\n",
    "                        AGGTGACACCGCAAGCCTTATATTAGC\n",
    "Reverse complement:     TCCACTGTGGCGTTCGGAATATAATCG  \n",
    "reversed reverse frame: GCTAATATAAGGCTTGCGGTGTCACCT\n",
    "\n",
    "You have:\n",
    "\n",
    "* Reverse Frame 1: GCT AAT ATA AGG CTT GCG GTG TCA CCT\n",
    "* reverse Frame 2: G CTA ATA TAA GGC TTG CGG TGT CAC CT\n",
    "* reverse Frame 3: GC TAA TAT AAG GCT TGC GGT GTC ACC T\n",
    "\n",
    "You can find more information about the Open Reading frame in wikipedia just [here] (https://en.wikipedia.org/wiki/Reading_frame)\n",
    "\n",
    "Given the standard table of genetic code:\n",
    "\n",
    " * AAs  = FFLLSSSSYY**CC*WLLLLPPPPHHQQRRRRIIIMTTTTNNKKSSRRVVVVAAAADDEEGGGG\n",
    " * Base1  = TTTTTTTTTTTTTTTTCCCCCCCCCCCCCCCCAAAAAAAAAAAAAAAAGGGGGGGGGGGGGGGG\n",
    " * Base2  = TTTTCCCCAAAAGGGGTTTTCCCCAAAAGGGGTTTTCCCCAAAAGGGGTTTTCCCCAAAAGGGG\n",
    " * Base3  = TCAGTCAGTCAGTCAGTCAGTCAGTCAGTCAGTCAGTCAGTCAGTCAGTCAGTCAGTCAGTCAG\n",
    "\n",
    "The tri-nucleotide TTT = F, TTC = F, TTA = L...\n",
    "\n",
    "\n",
    "So our 6 frames will be translate as:\n",
    "\n",
    "* Frame 1: AGG·TGA·CAC·CGC·AAG·CCT·TAT·ATT·AGC\n",
    "          R   *   H   R   K   P   Y   I   S\n",
    "\n",
    "* Frame 2: A·GGT·GAC·ACC·GCA·AGC·CTT·ATA·TTA·GC\n",
    "             G  D   T   A   S   L   I   L  \n",
    "\n",
    "* Frame 3: AG·GTG·ACA·CCG·CAA·GCC·TTA·TAT·TAG·C\n",
    "             V   T   P   Q   A   L   Y   *\n",
    "\n",
    "* Reverse Frame 1: GCT AAT ATA AGG CTT GCG GTG TCA CCT\n",
    "                  A   N   I   R   L   A   V   S   P\n",
    "\n",
    "* Reverse Frame 2: G CTA ATA TAA GGC TTG CGG TGT CAC CT\n",
    "                    L   I   *   G   L   R   C   H\n",
    "\n",
    "* Reverse Frame 3: GC TAA TAT AAG GCT TGC GGT GTC ACC T\n",
    "                     *   Y   K   A   C   G   V   T\n",
    "                     \n",
    "In this kata you should **create a function that translates DNA on all 6 frames**, this function takes 2 arguments. The first one is the DNA sequence the second one is an array of frame number for example if we want to translate in Frame 1 and Reverse 1 this array will be [1,-1]. Valid frames are 1, 2, 3 and -1, -2, -3.\n",
    "\n",
    "**The function should return an array with all translation** asked for, by default the function do the translation on all 6 frames."
   ]
  },
  {
   "cell_type": "code",
   "execution_count": 196,
   "metadata": {},
   "outputs": [],
   "source": [
    "def frames_x_6_translated(seq, frames):\n",
    "    \n",
    "     \"\"\"returns the 6 frames from a given double strand seq\"\"\"\n",
    "    \n",
    "    __CODON_DICT__ = {'AAT': 'N', 'AAC': 'N',\n",
    "                  'AAA': 'K', 'AAG': 'K',\n",
    "                  'ACT': 'T', 'ACC': 'T', 'ACA': 'T', 'ACG': 'T',\n",
    "                  'AGT': 'S', 'AGC': 'S',\n",
    "                  'AGA': 'R', 'AGG': 'R',\n",
    "                  'ATT': 'I', 'ATC': 'I', 'ATA': 'I',\n",
    "                  'ATG': 'M',\n",
    "                  'CAT': 'H', 'CAC': 'H',\n",
    "                  'CAA': 'Q', 'CAG': 'Q',\n",
    "                  'CCT': 'P', 'CCC': 'P', 'CCA': 'P', 'CCG': 'P',\n",
    "                  'CGT': 'R', 'CGC': 'R', 'CGA': 'R', 'CGG': 'R',\n",
    "                  'CTT': 'L', 'CTC': 'L', 'CTA': 'L', 'CTG': 'L',\n",
    "                  'GAT': 'D', 'GAC': 'D',\n",
    "                  'GAA': 'E', 'GAG': 'E',\n",
    "                  'GCT': 'A', 'GCC': 'A', 'GCA': 'A', 'GCG': 'A',\n",
    "                  'GGT': 'G', 'GGC': 'G', 'GGA': 'G', 'GGG': 'G',\n",
    "                  'GTT': 'V', 'GTC': 'V', 'GTA': 'V', 'GTG': 'V',\n",
    "                  'TAT': 'Y', 'TAC': 'Y',\n",
    "                  'TAA': '*', 'TAG': '*',\n",
    "                  'TCT': 'S', 'TCC': 'S', 'TCA': 'S', 'TCG': 'S',\n",
    "                  'TGT': 'C', 'TGC': 'C',\n",
    "                  'TGA': '*',\n",
    "                  'TGG': 'W',\n",
    "                  'TTT': 'F', 'TTC': 'F',\n",
    "                  'TTA': 'L', 'TTG': 'L'}\n",
    "    \n",
    "    \n",
    "    # 1. Get the reverse complementary sequence\n",
    "    pairs = {'A':'T','T':'A','C':'G','G':'C'}\n",
    "    seq_2 = ''.join([pairs[x] for x in seq])\n",
    "    seq_2 =''.join(reversed(seq_2))\n",
    "    \n",
    "    # 2. Get all 6 fames\n",
    "    \n",
    "    frame_total = []\n",
    "    \n",
    "    l_1, l_2, l_3, l_4, l_5, l_6 = [], [], [], [], [], []\n",
    "     \n",
    "    for i in range(len(seq_2)):\n",
    "        if i % 3 == 0:\n",
    "            \n",
    "            c_1, c_2, c_3, c_4, c_5, c_6 = seq[i:i+3], seq[i+1:i+4], seq[i+2:i+5], seq_2[i:i+3], seq_2[i+1:i+4], seq_2[i+2:i+5]\n",
    "            \n",
    "            l_1.append(c_1)\n",
    "            l_2.append(c_2)\n",
    "            l_3.append(c_3)\n",
    "            l_4.append(c_4)\n",
    "            l_5.append(c_5)\n",
    "            l_6.append(c_6)\n",
    "    \n",
    "    # 3. Get the translated frames\n",
    "            \n",
    "    l_1_t, l_2_t, l_3_t, l_4_t, l_5_t, l_6_t = [], [], [], [], [], []\n",
    "    \n",
    "\n",
    "    try:\n",
    "        for i in l_1:\n",
    "            l_1_t.append(__CODON_DICT__[i])\n",
    "    except KeyError:\n",
    "        pass\n",
    "    try:\n",
    "        for i in l_2:\n",
    "            l_2_t.append(__CODON_DICT__[i])\n",
    "    except KeyError:\n",
    "        pass\n",
    "    try:\n",
    "        for i in l_3:\n",
    "            l_3_t.append(__CODON_DICT__[i])\n",
    "    except KeyError:\n",
    "        pass\n",
    "\n",
    "    try:\n",
    "        for i in l_4:\n",
    "            l_4_t.append(__CODON_DICT__[i])\n",
    "    except KeyError:\n",
    "        pass\n",
    "\n",
    "    try:\n",
    "        for i in l_5:\n",
    "            l_5_t.append(__CODON_DICT__[i])\n",
    "    except KeyError:\n",
    "        pass\n",
    "\n",
    "    try:\n",
    "        for i in l_6:\n",
    "            l_6_t.append(__CODON_DICT__[i])\n",
    "    except KeyError:\n",
    "        pass\n",
    "\n",
    "    \n",
    "    list_translated_frames = [''.join(l_1_t), ''.join(l_2_t), ''.join(l_3_t), ''.join(l_4_t), ''.join(l_5_t), ''.join(l_6_t)]\n",
    "    \n",
    "    results = []\n",
    "        \n",
    "    for i in frames:\n",
    "        \n",
    "        if i == 1:\n",
    "            results.append(list_translated_frames[0])\n",
    "        if i == 2:\n",
    "            results.append(list_translated_frames[1])\n",
    "        if i == 3:\n",
    "            results.append(list_translated_frames[2])\n",
    "        if i == -1:\n",
    "            results.append(list_translated_frames[3])\n",
    "        if i == -2:\n",
    "            results.append(list_translated_frames[4])\n",
    "        if i == -3:\n",
    "            results.append(list_translated_frames[5])\n",
    "    \n",
    "    return results\n"
   ]
  },
  {
   "cell_type": "code",
   "execution_count": 197,
   "metadata": {},
   "outputs": [],
   "source": [
    "seq = \"AGGTGACACCGCAAGCCTTATATTAGC\""
   ]
  },
  {
   "cell_type": "code",
   "execution_count": 200,
   "metadata": {},
   "outputs": [
    {
     "data": {
      "text/plain": [
       "['GDTASLIL', 'ANIRLAVSP', 'R*HRKPYIS', 'GDTASLIL']"
      ]
     },
     "execution_count": 200,
     "metadata": {},
     "output_type": "execute_result"
    }
   ],
   "source": [
    "frames_x_6_translated(seq, [2,-1,1,2 ])"
   ]
  },
  {
   "cell_type": "markdown",
   "metadata": {},
   "source": [
    "# Exercise 16: Level 6 (Intermediate)\n",
    "\n",
    "\n",
    "### Protein Synthesis: From DNA to Polypeptide\n",
    "\n",
    "Our cells go through a process called protein synthesis to translate the instructions in DNA into an amino acid chain, or polypeptide.\n",
    "\n",
    "Your job is to replicate this!\n",
    "\n",
    "**Step 1: Transcription**\n",
    "\n",
    "Your input will be a string of DNA that looks like this:\n",
    "\n",
    "\"TACAGCTCGCTATGAATC\"\n",
    "\n",
    "You then must transcribe it to mRNA. Each letter, or base, gets transcribed.\n",
    "\n",
    "A -> U\n",
    "G -> C\n",
    "C -> G```\n",
    "\n",
    "Also, you will split it into groups of three, or _codons_.\n",
    "\n",
    "The above example would become:\n",
    "\n",
    "`\"AUG UCG AGC GAU ACU UAG\"`\n",
    "\n",
    "---\n",
    "\n",
    "**Step 2: Translation**\n",
    "\n",
    "After you have the mRNA strand, you will turn it into an amino acid chain.\n",
    "\n",
    "Each codon corresponds to an amino acid:\n",
    "Ala GCU, GCC, GCA, GCG Leu UUA, UUG, CUU, CUC, CUA, CUG Arg CGU, CGC, CGA, CGG, AGA, AGG Lys AAA, AAG Asn AAU, AAC Met AUG Asp GAU, GAC Phe UUU, UUC Cys UGU, UGC Pro CCU, CCC, CCA, CCG Gln CAA, CAG Ser UCU, UCC, UCA, UCG, AGU, AGC Glu GAA, GAG Thr ACU, ACC, ACA, ACG Gly GGU, GGC, GGA, GGG Trp UGG His CAU, CAC Tyr UAU, UAC Ile AUU, AUC, AUA Val GUU, GUC, GUA, GUG Stop UAG, UGA, UAA```\n",
    "\n",
    "Phew, that's a long list!\n",
    "\n",
    "The above example would become:\n",
    "\n",
    "\"Met Ser Ser Thr Asp Stop\"\n",
    "\n",
    "Any additional sets of bases that aren't in a group of three aren't included. For example:\n",
    "\n",
    "\"AUG C\"\n",
    "\n",
    "would become\n",
    "\n",
    "\"Met\"\n"
   ]
  },
  {
   "cell_type": "code",
   "execution_count": 27,
   "metadata": {},
   "outputs": [],
   "source": [
    "\n",
    "# Sol 1\n",
    "\n",
    "def protein_synthesis(dna):\n",
    "    # Transcribe\n",
    "    dna = dna.translate(dna.maketrans('ATCG', 'UAGC'))\n",
    "    rna = [dna[i:i+3] for i in range(0, len(dna), 3)]\n",
    "    # Translate\n",
    "    protein = []\n",
    "    for x in rna:\n",
    "        try:\n",
    "            protein.append(CODON_DICT[x])\n",
    "        except KeyError:\n",
    "            pass           \n",
    "    return (' '.join(rna), ' '.join(protein))\n",
    "\n",
    "\n",
    "def protein_synthesis(dna):\n",
    "    \n",
    "    \n",
    "# Sol 2:\n",
    "    \n",
    "    \"\"\"this function takes a dna string as an argument and returns the corresponding mRNA and aminoacid (aa) sequence (no splicing involved)\"\"\"\n",
    "    \n",
    "    __CODON_DICT__ = {'AAU': 'Asn', 'AAC': 'Asn',\n",
    "              'AAA': 'Lys', 'AAG': 'Lys',\n",
    "              'ACU': 'Thr', 'ACC': 'Thr', 'ACA': 'Thr', 'ACG': 'Thr',\n",
    "              'AGU': 'Ser', 'AGC': 'Ser',\n",
    "              'AGA': 'Arg', 'AGG': 'Arg',\n",
    "              'AUU': 'Ile', 'AUC': 'Ile', 'AUA': 'Ile',\n",
    "              'AUG': 'Met',\n",
    "              'CAU': 'His', 'CAC': 'His',\n",
    "              'CAA': 'Gln', 'CAG': 'Gln',\n",
    "              'CCU': 'Pro', 'CCC': 'Pro', 'CCA': 'Pro', 'CCG': 'Pro',\n",
    "              'CGU': 'Arg', 'CGC': 'Arg', 'CGA': 'Arg', 'CGG': 'Arg',\n",
    "              'CUU': 'Leu', 'CUC': 'Leu', 'CUA': 'Leu', 'CUG': 'Leu',\n",
    "              'GAU': 'Asp', 'GAC': 'Asp',\n",
    "              'GAA': 'Glu', 'GAG': 'Glu',\n",
    "              'GCU': 'Ala', 'GCC': 'Ala', 'GCA': 'Ala', 'GCG': 'Ala',\n",
    "              'GGU': 'Gly', 'GGC': 'Gly', 'GGA': 'Gly', 'GGG': 'Gly',\n",
    "              'GUU': 'Val', 'GUC': 'Val', 'GUA': 'Val', 'GUG': 'Val',\n",
    "              'UAU': 'Tyr', 'UAC': 'Tyr',\n",
    "              'UAA': 'Stop', 'UAG': 'Stop',\n",
    "              'UCU': 'Ser', 'UCC': 'Ser', 'UCA': 'Ser', 'UCG': 'Ser',\n",
    "              'UGU': 'Cys', 'UGC': 'Cys',\n",
    "              'UGA': 'Stop',\n",
    "              'UGG': 'Trp',\n",
    "              'UUU': 'Phe', 'UUC': 'Phe',\n",
    "              'UUA': 'Leu', 'UUG': 'Leu'}\n",
    "    \n",
    "    # 1. Get the complementary seq\n",
    "    pairs = {'A':'T','T':'A','C':'G','G':'C'}\n",
    "    seq = ''.join([pairs[x] for x in dna])\n",
    "    \n",
    "    # 2. Get the mRNA seq:\n",
    "    mrna = seq.replace(\"T\", \"U\")\n",
    "    \n",
    "    # 3. Get the rna triplets\n",
    "    rna_triplets = [mrna[i:i+3] for i in range(len(mrna)) if i % 3 == 0]\n",
    "    \n",
    "    # 4. Translate the mRNA into aa sequence\n",
    "    aa = []\n",
    "    \n",
    "    try:\n",
    "        for i in rna_triplets:\n",
    "            aa.append(__CODON_DICT__[i])\n",
    "    except KeyError:\n",
    "        pass\n",
    "    \n",
    "    return (\" \".join(rna_triplets), \" \".join(aa))\n",
    "        \n"
   ]
  },
  {
   "cell_type": "code",
   "execution_count": 26,
   "metadata": {},
   "outputs": [
    {
     "data": {
      "text/plain": [
       "('AUG UCG AGC GAU ACU UAG', 'Met Ser Ser Asp Thr Stop')"
      ]
     },
     "execution_count": 26,
     "metadata": {},
     "output_type": "execute_result"
    }
   ],
   "source": [
    "seq=\"TACAGCTCGCTATGAATC\"\n",
    "\n",
    "protein_synthesis(seq)"
   ]
  },
  {
   "cell_type": "code",
   "execution_count": null,
   "metadata": {},
   "outputs": [],
   "source": []
  },
  {
   "cell_type": "code",
   "execution_count": null,
   "metadata": {},
   "outputs": [],
   "source": [
    "('GCU UGG AAU AUG GUA ACG GCA UCG AAC AUU GAU UAG UCC GUC CGU C', 'Ala Trp Asp Met Val Thr Ala Ser Asp Ile Asp Stop Ser Val Arg')\n",
    "('GCU UGG AAU AUG GUA ACG GCA UCG AAC AUU GAU UAG UCC GUC CGU C', 'Ala Trp Asn Met Val Thr Ala Ser Asn Ile Asp Stop Ser Val Arg')"
   ]
  },
  {
   "cell_type": "markdown",
   "metadata": {},
   "source": [
    "# Exercise 17: Level 5 (Intermediate)\n",
    "\n",
    "Operations on sequences\n",
    "\n",
    "Let an array or a list\n",
    "\n",
    "arr = [x(1), x(2), x(3), x(4), ..., x(i), x(i+1), ..., x(m), x(m+1)]\n",
    "\n",
    "where all x(i) are positive integers. The length lg of this array will be a positive multiple of 4.\n",
    "\n",
    "Let\n",
    "\n",
    "P = (x(1) ** 2 + x(2) ** 2) * (x(3) ** 2 + x(4) ** 2) * ... * (x(m) ** 2 + x(m+1) ** 2),\n",
    "\n",
    "x ** y means x raised to the power y.\n",
    "\n",
    "Task\n",
    "\n",
    "Given an array or list arr the task is to find:\n",
    "\n",
    "two nonnegative integers A and B such as P = A ** 2 + B ** 2 (1).\n",
    "The function solve(arr) should return an array or a list [A, B] where A and B verify (1).\n",
    "\n",
    "Examples:\n",
    "\n",
    "solve([2, 1, 3, 4]) returns [2, 11] :\n",
    "(2*2 + 1*1) * (3*3 + 4*4) = 5 * 25 = 125 and 2 * 2 + 11 * 11 = 125\n",
    "\n",
    "solve([2, 1, 3, 4, 2, 2, 1, 5, 2, 3, 4, 5]) returns [2344, 2892] :\n",
    "(2*2 + 1*1) * (3*3 + 4*4) * (2*2 + 2*2) * (1*1 + 5*5) * (2*2 + 3*3) * (4*4 + 5*5) = 13858000\n",
    "and 2344 * 2344 + 2892 * 2892 = 13858000\n",
    "Notes\n",
    "\n",
    "The decomposition into A ** 2 + B ** 2 is not unique: the testing function checks if (1) is verified.\n",
    "\n",
    "Lengths of lists are less than 100 and elements of lists less than 30\n",
    "\n",
    "solve([21, 24, 15, 22, 1, 2]) can return [639, 1788] or [1431, 1248]; both return are correct.\n",
    "P is     3605265\n",
    "A*A+B*B  3605265\n",
    "\n",
    "Please ask before translating"
   ]
  },
  {
   "cell_type": "code",
   "execution_count": null,
   "metadata": {},
   "outputs": [],
   "source": [
    "def solve(arr):\n",
    "    \n",
    "    # your code\n",
    "    return []"
   ]
  },
  {
   "cell_type": "code",
   "execution_count": 172,
   "metadata": {},
   "outputs": [],
   "source": [
    "arrakis = np.array([2, 1, 3, 4, 2, 2, 1, 5, 2, 3, 4, 5])"
   ]
  },
  {
   "cell_type": "code",
   "execution_count": 168,
   "metadata": {},
   "outputs": [],
   "source": [
    "bins = len(arrakis)/2"
   ]
  },
  {
   "cell_type": "code",
   "execution_count": 228,
   "metadata": {},
   "outputs": [
    {
     "data": {
      "text/plain": [
       "3722.633476451852"
      ]
     },
     "execution_count": 228,
     "metadata": {},
     "output_type": "execute_result"
    }
   ],
   "source": [
    "bin_r = []\n",
    "for i in np.split(arrakis, bins):\n",
    "    bin_prod = i[0]*i[0] + i[1]*i[1]\n",
    "    bin_r.append(bin_prod)\n",
    "    \n",
    "p = np.prod(bin_r)\n",
    "p_sqr"
   ]
  },
  {
   "cell_type": "markdown",
   "metadata": {},
   "source": [
    "a2 + b2 = (a+b)2−ab"
   ]
  },
  {
   "cell_type": "markdown",
   "metadata": {},
   "source": [
    "# Exercise 18: Level 5 (Intermediate)\n",
    "\n",
    "### Simple number sequence\n",
    "\n",
    "In this Kata, you will be given a string of numbers in sequence and your task will be to return the missing number. If there is no number missing or there is an error in the sequence, return -1.\n",
    "\n",
    "For example:\n",
    "\n",
    "* missing(\"123567\") = 4 \n",
    "* missing(\"899091939495\") = 92\n",
    "* missing(\"9899101102\") = 100\n",
    "* missing(\"599600601602\") = -1 -- no number missing\n",
    "* missing(\"8990919395\") = -1 -- error in sequence. Both 92 and 94 missing.\n",
    "\n",
    "The sequence will always be in ascending order.\n",
    "\n",
    "More examples in the test cases."
   ]
  },
  {
   "cell_type": "code",
   "execution_count": null,
   "metadata": {},
   "outputs": [],
   "source": [
    "def missing(seq):\n",
    "    for digits in range(1, len(seq) // 2 + 1):\n",
    "        my_seq = last = seq[:digits]\n",
    "        n = int(my_seq)\n",
    "        missing = None\n",
    "        \n",
    "        while len(my_seq) < len(seq):\n",
    "            n += 1\n",
    "            my_seq += str(n)\n",
    "            \n",
    "            if not seq.startswith(my_seq):\n",
    "                if missing == None:\n",
    "                    missing = n\n",
    "                    my_seq = last\n",
    "                else:\n",
    "                    break\n",
    "            else:\n",
    "                last = my_seq\n",
    "        \n",
    "        if my_seq == seq and missing:\n",
    "            return missing\n",
    "    \n",
    "    return -1\n",
    "    "
   ]
  },
  {
   "cell_type": "markdown",
   "metadata": {},
   "source": [
    "# Exercise 19: Level 6 (Intermediate)\n",
    "\n",
    "### Array.diff\n",
    "\n",
    "Your goal in this kata is to implement a difference function, which subtracts one list from another and returns the result.\n",
    "\n",
    "It should remove all values from list a, which are present in list b.\n",
    "\n",
    "array_diff([1,2],[1]) == [2]\n",
    "If a value is present in b, all of its occurrences must be removed from the other:\n",
    "\n",
    "array_diff([1,2,2,2,3],[2]) == [1,3]"
   ]
  },
  {
   "cell_type": "code",
   "execution_count": 22,
   "metadata": {},
   "outputs": [],
   "source": [
    "def array_diff(a, b):\n",
    "    for i in b:\n",
    "        if i in a:\n",
    "            a = list(filter(lambda a: a != i, a))\n",
    "    return a"
   ]
  },
  {
   "cell_type": "code",
   "execution_count": 23,
   "metadata": {},
   "outputs": [],
   "source": [
    "list_1 = [1,2,2,2,3]\n",
    "list_2 = [2]"
   ]
  },
  {
   "cell_type": "code",
   "execution_count": 24,
   "metadata": {},
   "outputs": [
    {
     "data": {
      "text/plain": [
       "[1, 3]"
      ]
     },
     "execution_count": 24,
     "metadata": {},
     "output_type": "execute_result"
    }
   ],
   "source": [
    "array_diff(list_1, list_2)"
   ]
  },
  {
   "cell_type": "code",
   "execution_count": 21,
   "metadata": {},
   "outputs": [
    {
     "data": {
      "text/plain": [
       "[1, 3]"
      ]
     },
     "execution_count": 21,
     "metadata": {},
     "output_type": "execute_result"
    }
   ],
   "source": [
    "list(filter(lambda a: a != 2, list_1))"
   ]
  },
  {
   "cell_type": "code",
   "execution_count": null,
   "metadata": {},
   "outputs": [],
   "source": [
    "for i in array_2:\n",
    "    if i in arr_1:\n",
    "        arr_1 = list(filter(lambda a: a != i, list_1))\n",
    "        "
   ]
  },
  {
   "cell_type": "code",
   "execution_count": 18,
   "metadata": {},
   "outputs": [],
   "source": [
    "del list_1[1]"
   ]
  },
  {
   "cell_type": "markdown",
   "metadata": {},
   "source": [
    "# Exercise 20: Level 4 (Intermediate-Hard)\n",
    "\n",
    "### Human readable duration format\n",
    "\n",
    "Your task in order to complete this Kata is to write a function which formats a duration, given as a number of seconds, in a human-friendly way.\n",
    "\n",
    "**The function must accept a non-negative integer. If it is zero, it just returns \"now\". Otherwise, the duration is expressed as a combination of years, days, hours, minutes and seconds.**\n",
    "\n",
    "It is much easier to understand with an example:\n",
    "\n",
    "* format_duration(62)    # returns **\"1 minute and 2 seconds\"**\n",
    "* format_duration(3662)  # returns **\"1 hour, 1 minute and 2 seconds\"**\n",
    "\n",
    "For the purpose of this Kata, a year is 365 days and a day is 24 hours.\n",
    "\n",
    "Note that spaces are important.\n",
    "\n",
    "Detailed rules\n",
    "\n",
    "The resulting expression is made of components like 4 seconds, 1 year, etc. In general, a positive integer and one of the valid units of time, separated by a space. The unit of time is used in plural if the integer is greater than 1.\n",
    "\n",
    "The components are separated by a comma and a space (\", \"). Except the last component, which is separated by \" and \", just like it would be written in English.\n",
    "\n",
    "A more significant units of time will occur before than a least significant one. Therefore, 1 second and 1 year is not correct, but 1 year and 1 second is.\n",
    "\n",
    "Different components have different unit of times. So there is not repeated units like in 5 seconds and 1 second.\n",
    "\n",
    "A component will not appear at all if its value happens to be zero. Hence, 1 minute and 0 seconds is not valid, but it should be just 1 minute.\n",
    "\n",
    "**A unit of time must be used \"as much as possible\"**. It means that the function should not return 61 seconds, but 1 minute and 1 second instead. Formally, the duration specified by of a component must not be greater than any valid more significant unit of time."
   ]
  },
  {
   "cell_type": "code",
   "execution_count": null,
   "metadata": {},
   "outputs": [],
   "source": []
  },
  {
   "cell_type": "code",
   "execution_count": 168,
   "metadata": {},
   "outputs": [],
   "source": [
    "# Sol 1\n",
    "\n",
    "times = [(\"year\", 365 * 24 * 60 * 60), \n",
    "         (\"day\", 24 * 60 * 60),\n",
    "         (\"hour\", 60 * 60),\n",
    "         (\"minute\", 60),\n",
    "         (\"second\", 1)]\n",
    "\n",
    "def format_duration(seconds):\n",
    "\n",
    "    if not seconds:\n",
    "        return \"now\"\n",
    "\n",
    "    chunks = []\n",
    "    for name, secs in times:\n",
    "        qty = seconds // secs\n",
    "        if qty:\n",
    "            if qty > 1:\n",
    "                name += \"s\"\n",
    "            chunks.append(str(qty) + \" \" + name)\n",
    "\n",
    "        seconds = seconds % secs\n",
    "\n",
    "    return ', '.join(chunks[:-1]) + ' and ' + chunks[-1] if len(chunks) > 1 else chunks[0]\n",
    "\n",
    "\n",
    "# Sol 2\n",
    "\n",
    "def format_duration(seconds): \n",
    "    \n",
    "    \"\"\"takes a number of seconds and returns a human readable duration format\"\"\"\n",
    "    \n",
    "    if seconds == 0:\n",
    "        return \"now\"\n",
    "    \n",
    "    else:\n",
    "\n",
    "        dates=[]\n",
    "        number=[]\n",
    "\n",
    "        n = seconds // 31536000\n",
    "        dates.append(\"years\")\n",
    "        number.append(n)\n",
    "        seconds = seconds % 31536000\n",
    "        n = seconds // 86400\n",
    "        dates.append(\"days\")\n",
    "        number.append(n)\n",
    "        seconds = seconds % 86400\n",
    "        n = seconds // 3600\n",
    "        dates.append(\"hours\")\n",
    "        number.append(n)\n",
    "        seconds = seconds % 3600\n",
    "        n = seconds // 60\n",
    "        dates.append(\"minutes\")\n",
    "        number.append(n)\n",
    "        seconds = seconds % 60\n",
    "        dates.append(\"seconds\")\n",
    "        number.append(seconds)\n",
    "\n",
    "        dict_dates = dict(zip(dates, number))\n",
    "\n",
    "        # 1. Remove the s if the val == 1\n",
    "\n",
    "        dict_dates = {key if value != 1 else key[:-1]: value for key, value in dict_dates.items()}\n",
    "\n",
    "\n",
    "        filt_dict={}\n",
    "\n",
    "        # 2. Remove those vals == 0 from the dict\n",
    "        for (key, value) in dict_dates.items():\n",
    "            if value != 0:\n",
    "                filt_dict[key] = value\n",
    "\n",
    "        l = []\n",
    "\n",
    "        for i in range(len(filt_dict)-2):\n",
    "\n",
    "            k = list(filt_dict.keys())[i]\n",
    "            v = str(list(filt_dict.values())[i])\n",
    "            z = v + \" \" + k + \", \"\n",
    "\n",
    "            l.append(z)\n",
    "\n",
    "        # second_last iter:\n",
    "        try:\n",
    "\n",
    "            k = list(filt_dict.keys())[-2]\n",
    "            v = str(list(filt_dict.values())[-2])\n",
    "\n",
    "            z = v + \" \" + k + \" \"\n",
    "\n",
    "            l.append(z)\n",
    "\n",
    "\n",
    "\n",
    "            # last iteration    \n",
    "            k = list(filt_dict.keys())[-1]\n",
    "            v = str(list(filt_dict.values())[-1])\n",
    "\n",
    "            z = \"and \" + v + \" \" + k\n",
    "\n",
    "            l.append(z)\n",
    "\n",
    "        except IndexError:\n",
    "\n",
    "            k = list(filt_dict.keys())[-1]\n",
    "            v = str(list(filt_dict.values())[-1])\n",
    "\n",
    "            z = v + \" \" + k\n",
    "\n",
    "            l.append(z)\n",
    "\n",
    "        return \"\".join(l)\n",
    "\n"
   ]
  },
  {
   "cell_type": "code",
   "execution_count": 170,
   "metadata": {},
   "outputs": [
    {
     "data": {
      "text/plain": [
       "'17 years, 225 days, 59 minutes and 10 seconds'"
      ]
     },
     "execution_count": 170,
     "metadata": {},
     "output_type": "execute_result"
    }
   ],
   "source": [
    "format_duration(555555550)"
   ]
  }
 ],
 "metadata": {
  "kernelspec": {
   "display_name": "Python 3",
   "language": "python",
   "name": "python3"
  },
  "language_info": {
   "codemirror_mode": {
    "name": "ipython",
    "version": 3
   },
   "file_extension": ".py",
   "mimetype": "text/x-python",
   "name": "python",
   "nbconvert_exporter": "python",
   "pygments_lexer": "ipython3",
   "version": "3.7.4"
  },
  "widgets": {
   "application/vnd.jupyter.widget-state+json": {
    "state": {},
    "version_major": 2,
    "version_minor": 0
   }
  }
 },
 "nbformat": 4,
 "nbformat_minor": 4
}
