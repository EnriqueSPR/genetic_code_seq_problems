{
 "cells": [
  {
   "cell_type": "code",
   "execution_count": 1,
   "metadata": {},
   "outputs": [],
   "source": [
    "import numpy as np\n",
    "import pandas as pd\n",
    "import itertools "
   ]
  },
  {
   "cell_type": "markdown",
   "metadata": {},
   "source": [
    "# Exercise 1: Level 8 (Easy). \n",
    "\n",
    "Define a function that takes a DNA seq and returns the complementary"
   ]
  },
  {
   "cell_type": "code",
   "execution_count": 3,
   "metadata": {},
   "outputs": [],
   "source": [
    "\n",
    "# Sol 1:\n",
    "pairs = {'A':'T','T':'A','C':'G','G':'C'}\n",
    "def DNA_complementary(dna):\n",
    "    return ''.join([pairs[x] for x in dna])\n",
    "\n",
    "# Sol 2: \n",
    "\n",
    "def complementary_DNA(DNA):\n",
    "    \n",
    "    \"\"\"takes a DNA seq and returns the complementary\"\"\"\n",
    "    \n",
    "    comp = \"\"\n",
    "    \n",
    "    for i in DNA_seq:\n",
    "        if i == \"A\":\n",
    "            comp += \"T\"\n",
    "        elif i == \"T\":\n",
    "            comp += \"A\"\n",
    "        elif i == \"C\":\n",
    "            comp += \"G\"\n",
    "        elif i == \"G\":\n",
    "            comp += \"C\"\n",
    "        else:\n",
    "            i = \"X\"\n",
    "    return comp"
   ]
  },
  {
   "cell_type": "markdown",
   "metadata": {},
   "source": [
    "# Exercise 2: Level 7 (Easy). \n",
    "\n",
    "Define a function that calculates the GC-content  of a seq"
   ]
  },
  {
   "cell_type": "code",
   "execution_count": 26,
   "metadata": {},
   "outputs": [],
   "source": [
    "\n",
    "# Sol 1\n",
    "\n",
    "def gc_content(seq):\n",
    "    \n",
    "    \"\"\"a function that calculates the GC-content  of a seq\"\"\"\n",
    "    if not seq :\n",
    "        return 0.0\n",
    "    else:\n",
    "        res = seq.count(\"C\")+seq.count(\"G\")\n",
    "        return round(res*100/len(seq),2)\n",
    "\n",
    "\n",
    "# Sol 2\n",
    "\n",
    "def gc_content(seq):\n",
    "    count_dict = {}\n",
    "    \n",
    "    if \"G\" in seq and \"C\" in seq:\n",
    "        for i in set(seq):\n",
    "            count_dict[i] = seq.count(i)\n",
    "        return round(((count_dict[\"C\"] + count_dict[\"G\"])/len(seq))*100,2)\n",
    "\n",
    "    elif \"G\" not in seq and \"C\" not in seq:\n",
    "        return 0.0\n",
    "\n",
    "    elif \"C\" not in seq:\n",
    "        for i in set(seq):\n",
    "            count_dict[i] = seq.count(i)\n",
    "        return round(((count_dict[\"G\"])/len(seq))*100,2)\n",
    "\n",
    "    elif \"G\" not in seq:\n",
    "        for i in set(seq):\n",
    "            count_dict[i] = seq.count(i)\n",
    "        return round((((count_dict[\"C\"])/len(seq))*100),2)\n"
   ]
  },
  {
   "cell_type": "markdown",
   "metadata": {},
   "source": [
    "# Exercise 3: Level 7 (Easy)\n",
    "\n",
    "In genetics, a **sequence’s motif** is a nucleotides (or amino-acid) **sequence pattern**. Sequence motifs have a biological significance. For more information you can take a look [here](https://en.wikipedia.org/wiki/Sequence_motif).\n",
    "\n",
    "For this kata you need to complete the function motif_locator. This function receives 2 arguments - a sequence and a motif. Both arguments are strings.\n",
    "\n",
    "You should return an array that contains all the start positions of the motif (in order). A sequence may contain 0 or more repetitions of the given motif. Note that the number of the first position is 1, not 0.\n",
    "\n",
    "Some examples:\n",
    "\n",
    "* For the sequence \"ACGTGGGGACTAGGGG\" and the motif \"GGGG\" the result should be [5, 13].\n",
    "* For the sequence \"ACCGTACCAAGGGACC\" and the motif \"AAT\" the result should be []\n",
    "* For the sequence \"GGG\" and the motif \"GG\" the result should be [1, 2]"
   ]
  },
  {
   "cell_type": "code",
   "execution_count": 94,
   "metadata": {},
   "outputs": [],
   "source": [
    "# to get the index\n",
    "\n",
    "def first_motif_locator(seq, motif):\n",
    "    \n",
    "    \"\"\"returns the starting and end position of the  first motif found in a sequence\"\"\"\n",
    "    \n",
    "    if motif in seq:\n",
    "        start = seq.find(motif) + 1\n",
    "        end = start + len(motif)\n",
    "        return [start, end]\n",
    "    else:\n",
    "        return []\n",
    "    \n",
    "def motif_locator_first_hits(seq, motif):\n",
    "    \n",
    "    \"\"\"returns the starting position fisrt encountered motifs\"\"\"\n",
    "    \n",
    "    import re\n",
    "    matches = re.finditer(motif, seq)\n",
    "    matches_positions = [match.start() + 1 for match in matches]\n",
    "    \n",
    "    return matches_positions\n",
    "\n",
    "\n",
    "\n",
    "# Sol 1\n",
    "\n",
    "def motif_locator(sequence, motif):\n",
    "    res, i = [], 0\n",
    "    while True:\n",
    "        i = sequence.find(motif, i) + 1\n",
    "        if not i: return res\n",
    "        res.append(i)\n",
    "\n",
    "\n",
    "# Sol 2\n",
    "\n",
    "def motif_locator(seq, motif):\n",
    "    \n",
    "    \"\"\"returns the starting position of all the motifs\"\"\"\n",
    "    \n",
    "    import re\n",
    "\n",
    "    motif_re = re.compile(r\"{}\".format(motif))\n",
    "    start = 0\n",
    "    indexes = []\n",
    "\n",
    "    for i in range(len(seq)):\n",
    "        try:\n",
    "            width_window = len(motif)\n",
    "            end = start + width_window \n",
    "            window = seq[start:end]\n",
    "            motif_found = motif_re.search(window).span(0)[0] # getting start of index\n",
    "            indexes.append(start+1) # appending the position where motif is found\n",
    "            \n",
    "        except AttributeError: # index not found\n",
    "            pass\n",
    "\n",
    "        start += 1 # at the end of each iter, increase starting index by 1\n",
    "        \n",
    "    return indexes"
   ]
  },
  {
   "cell_type": "code",
   "execution_count": 179,
   "metadata": {},
   "outputs": [
    {
     "data": {
      "text/plain": [
       "[]"
      ]
     },
     "execution_count": 179,
     "metadata": {},
     "output_type": "execute_result"
    }
   ],
   "source": [
    "seq = \"AGGTGACACCGCAAGCCTTATATTAGC\"\n",
    "mot = \"AGC\"\n",
    "motif_locator(seq, mot)"
   ]
  },
  {
   "cell_type": "markdown",
   "metadata": {},
   "source": [
    "# Exercise 4: Level 6 (Intermediate). \n",
    "\n",
    "Write a function checkDNA that takes in two DNA sequences as strings, and checks if they are fit to form a fully complementary DNA double helix. \n",
    "The function should return a Boolean true if they are complementary, and false if there is a sequence mismatch"
   ]
  },
  {
   "cell_type": "code",
   "execution_count": 56,
   "metadata": {},
   "outputs": [],
   "source": [
    "\n",
    "\n",
    "\n",
    "# Sol 1\n",
    "\n",
    "from string import maketrans\n",
    "\n",
    "def check_DNA(seq1, seq2):\n",
    "    seq1 = seq1.translate(maketrans(\"ATGC\", \"TACG\"))\n",
    "    return seq1 in seq2[::-1] or seq2[::-1] in seq1\n",
    "\n",
    "\n",
    "\n",
    "# Sol 2\n",
    "\n",
    "def check_DNA (seq1, seq2):\n",
    "    \n",
    "    \"\"\"checks if two dna seqs are complementary\"\"\"\n",
    "    \n",
    "    # 1. lets make seq1 always the shortest\n",
    "    if len(seq1) > len(seq2): \n",
    "        \n",
    "        seq1, seq2 = seq2, seq1\n",
    "\n",
    "    # 2. get the complementary strand of the sortest seq(seq1)\n",
    "    \n",
    "    pairs = {'A':'T','T':'A','C':'G','G':'C'}\n",
    "    \n",
    "    comp_seq1 = ''.join([pairs[x] for x in seq1])\n",
    "        \n",
    "    # 3. get the reverse direction for the largest strand (seq2)\n",
    "    \n",
    "    seq2 =''.join(reversed(seq2))\n",
    "    \n",
    "    \n",
    "    # 4. Check if comp_seq1 in seq2\n",
    "\n",
    "    if comp_seq1 in seq2: \n",
    "        return True\n",
    "    \n",
    "    else:\n",
    "        return False\n",
    "    \n"
   ]
  },
  {
   "cell_type": "code",
   "execution_count": 57,
   "metadata": {},
   "outputs": [
    {
     "name": "stdout",
     "output_type": "stream",
     "text": [
      "CGCGACGATCGACTAGCT\n",
      "CATCGCGACGATCGACTAGCTAGCATGCA\n"
     ]
    },
    {
     "data": {
      "text/plain": [
       "True"
      ]
     },
     "execution_count": 57,
     "metadata": {},
     "output_type": "execute_result"
    }
   ],
   "source": [
    "check_DNA('ACGTACGATCGATCAGCTAGCAGCGCTAC', 'GCGCTGCTAGCTGATCGA')"
   ]
  },
  {
   "cell_type": "markdown",
   "metadata": {},
   "source": [
    "# Exercise 6: Level 7 (Easy) \n",
    "\n",
    "### Decompose single strand DNA into 3 reading frames.\n",
    "\n",
    "In genetics a reading frame is a way to divide a sequence of nucleotides (DNA bases) into a set of consecutive non-overlapping triplets (also called codon). Each of this triplets is translated into an amino-acid during a translation process to create proteins.\n",
    "\n",
    "**Input**\n",
    "\n",
    "In a single strand of DNA you find 3 Reading frames, take for example the following input sequence:\n",
    "\n",
    "AGGTGACACCGCAAGCCTTATATTAGC\n",
    "\n",
    "**Output**\n",
    "\n",
    "For the output we are going to take the combinations and show them in the following manner:\n",
    "\n",
    "* Frame 1: AGG TGA CAC CGC AAG CCT TAT ATT AGC\n",
    "* Frame 2: A GGT GAC ACC GCA AGC CTT ATA TTA GC\n",
    "* Frame 3: AG GTG ACA CCG CAA GCC TTA TAT TAG C\n",
    "\n",
    "For frame 1 split all of them in groups of three starting by the first base (letter).\n",
    "\n",
    "For frame 2 split all of them in groups of three starting by the second base (letter) but having the first base (letter) at the beggining.\n",
    "\n",
    "For frame 3 split all of them in groups of three starting by the third letter, but having the first and second bases (letters) at the beginning in the same order.\n",
    "\n"
   ]
  },
  {
   "cell_type": "code",
   "execution_count": 331,
   "metadata": {},
   "outputs": [],
   "source": [
    "\n",
    "# Sol 1\n",
    "\n",
    "def decompose_single_strand(single_strand):\n",
    "    f1 = 'Frame 1: {}'.format(decompose(single_strand))\n",
    "    f2 = 'Frame 2: {} {}'.format(single_strand[:1], decompose(single_strand[1:]))\n",
    "    f3 = 'Frame 3: {} {}'.format(single_strand[:2], decompose(single_strand[2:]))\n",
    "    return '\\n'.join([f1, f2, f3])\n",
    "    \n",
    "def decompose(strand):\n",
    "    return ' '.join([strand[i: i + 3] for i in range(0, len(strand), 3)])\n",
    "\n",
    "\n",
    "# Sol  2\n",
    "\n",
    "def frames_x_3(seq):\n",
    "    frame_1 = []\n",
    "    frame_2 = []\n",
    "    frame_3 = []\n",
    "    for i in range(len(seq)):\n",
    "        if i % 3 == 0:\n",
    "\n",
    "            c_1 = seq[i:i+3]\n",
    "            frame_1.append(c_1)\n",
    "\n",
    "            c_2 = seq[i+1:i+4]\n",
    "            frame_2.append(c_2)\n",
    "\n",
    "            c_3 = seq[i+2:i+5]\n",
    "            frame_3.append(c_3)\n",
    "            \n",
    "    frame_1 = \" \".join(frame_1)\n",
    "    frame_2 = seq[0] + \" \" + \" \".join(frame_2)\n",
    "    frame_3 = seq[:2] + \" \" + \" \".join(frame_3)\n",
    "            \n",
    "    return \"Frame 1: \" + frame_1 + \"\\nFrame 2: \" + frame_2 + \"\\nFrame 3: \" + frame_3\n"
   ]
  },
  {
   "cell_type": "code",
   "execution_count": 328,
   "metadata": {},
   "outputs": [],
   "source": [
    "seq = \"AGGTGACACCGCAAGCCTTATATTAGC\""
   ]
  },
  {
   "cell_type": "code",
   "execution_count": 330,
   "metadata": {},
   "outputs": [
    {
     "name": "stdout",
     "output_type": "stream",
     "text": [
      "Frame 1: AGG TGA CAC CGC AAG CCT TAT ATT AGC\n",
      "Frame 2: A GGT GAC ACC GCA AGC CTT ATA TTA GC\n",
      "Frame 3: AG GTG ACA CCG CAA GCC TTA TAT TAG C\n"
     ]
    }
   ],
   "source": [
    "frames_x_3(seq)"
   ]
  },
  {
   "cell_type": "markdown",
   "metadata": {},
   "source": [
    "# Exercise 8: Level 6 (Intermediate)\n",
    "\n",
    "### Decompose double strand DNA into 6 reading frames\n",
    "\n",
    "In a double strand DNA you find 3 more Reading frames than the single strand DNA reading frames base on the reverse complement-strand.\n",
    "\n",
    "**Input**\n",
    "\n",
    "Given a DNA sequence like the following\n",
    "\n",
    "AGGTGACACCGCAAGCCTTATATTAGC\n",
    "\n",
    "**Processing**\n",
    "\n",
    "In the reverse complement the following transformations are made\n",
    "\n",
    "* A-->T\n",
    "* G-->C\n",
    "* T-->A\n",
    "* C-->G\n",
    "\n",
    "Due to the splicing of DNA strands and the fixed reading direction of a nucleotide strand, the reverse complement gets read from right to left.\n",
    "\n",
    "DNA                     AGGTGACACCGCAAGCCTTATATTAGC\n",
    "Reverse complement:     TCCACTGTGGCGTTCGGAATATAATCG  \n",
    "reversed reverse frame: GCTAATATAAGGCTTGCGGTGTCACCT\n",
    "\n",
    "Output\n",
    "You'll have to output:\n",
    "\n",
    "* Frame 1: AGG TGA CAC CGC AAG CCT TAT ATT AGC\n",
    "* Frame 2: A GGT GAC ACC GCA AGC CTT ATA TTA GC\n",
    "* Frame 3: AG GTG ACA CCG CAA GCC TTA TAT TAG C\n",
    "\n",
    "\n",
    "* Reverse Frame 1: GCT AAT ATA AGG CTT GCG GTG TCA CCT\n",
    "* Reverse Frame 2: G CTA ATA TAA GGC TTG CGG TGT CAC CT\n",
    "* Reverse Frame 3: GC TAA TAT AAG GCT TGC GGT GTC ACC T\n",
    "\n",
    "Instructions on how to output the first 3 frames are on a previous simpler kata Decompose single strand DNA into 3 reading frames"
   ]
  },
  {
   "cell_type": "code",
   "execution_count": 24,
   "metadata": {},
   "outputs": [],
   "source": [
    "# Complementary:\n",
    "\n",
    "\n",
    "pairs = {'A':'T','T':'A','C':'G','G':'C'}\n",
    "\n",
    "def DNA_complementary_reversed(seq):\n",
    "    \n",
    "    \"\"\"function that returns the complementary reverse from a given sequence\"\"\"\n",
    "    seq_2 = ''.join([pairs[x] for x in seq])\n",
    "    seq_2 =''.join(reversed(seq_2))\n",
    "    \n",
    "    return seq_2\n",
    "\n",
    "def frames_x_3(seq, seq_2):\n",
    "    frame_1 = []\n",
    "    frame_2 = []\n",
    "    frame_3 = []\n",
    "    frame_1_r = []\n",
    "    frame_2_r = []\n",
    "    frame_3_r = []\n",
    "    \n",
    "    for i in range(len(seq_2)):\n",
    "        if i % 3 == 0:\n",
    "            \n",
    "            c_1 = seq[i:i+3]\n",
    "            frame_1.append(c_1)\n",
    "\n",
    "            c_2 = seq[i+1:i+4]\n",
    "            frame_2.append(c_2)\n",
    "\n",
    "            c_3 = seq[i+2:i+5]\n",
    "            frame_3.append(c_3)\n",
    "\n",
    "            c_1 = seq_2[i:i+3]\n",
    "            frame_1_r.append(c_1)\n",
    "\n",
    "            c_2 = seq_2[i+1:i+4]\n",
    "            frame_2_r.append(c_2)\n",
    "\n",
    "            c_3 = seq_2[i+2:i+5]\n",
    "            frame_3_r.append(c_3)\n",
    "        \n",
    "\n",
    "    frame_1 = \" \".join(frame_1)\n",
    "    frame_2 = seq[0] + \" \" + \" \".join(frame_2)\n",
    "    frame_3 = seq[:2] + \" \" + \" \".join(frame_3)\n",
    "    \n",
    "    frame_1_r = \" \".join(frame_1_r)\n",
    "    frame_2_r = seq_2[0] + \" \" + \" \".join(frame_2_r)\n",
    "    frame_3_r = seq_2[:2] + \" \" + \" \".join(frame_3_r)\n",
    "            \n",
    "    return print(\"Frame 1: \" + frame_1 + \"\\nFrame 2: \" + frame_2 + \"\\nFrame 3: \" + frame_3 + \"\\n\" + \"\\nReverse Frame 1: \" + frame_1_r + \"\\nReverse Frame 2: \" + frame_2_r + \"\\nReverse Frame 3: \" + frame_3_r)\n"
   ]
  },
  {
   "cell_type": "code",
   "execution_count": 6,
   "metadata": {},
   "outputs": [],
   "source": [
    "seq = \"AGGTGACACCGCAAGCCTTATATTAGC\""
   ]
  },
  {
   "cell_type": "code",
   "execution_count": 9,
   "metadata": {},
   "outputs": [
    {
     "data": {
      "text/plain": [
       "'GCTAATATAAGGCTTGCGGTGTCACCT'"
      ]
     },
     "execution_count": 9,
     "metadata": {},
     "output_type": "execute_result"
    }
   ],
   "source": [
    "DNA_complementary_reversed(seq)"
   ]
  },
  {
   "cell_type": "code",
   "execution_count": 25,
   "metadata": {},
   "outputs": [
    {
     "name": "stdout",
     "output_type": "stream",
     "text": [
      "Frame 1: AGG TGA CAC CGC AAG CCT TAT ATT AGC\n",
      "Frame 2: A GGT GAC ACC GCA AGC CTT ATA TTA GC\n",
      "Frame 3: AG GTG ACA CCG CAA GCC TTA TAT TAG C\n",
      "\n",
      "Reverse Frame 1: GCT AAT ATA AGG CTT GCG GTG TCA CCT\n",
      "Reverse Frame 2: G CTA ATA TAA GGC TTG CGG TGT CAC CT\n",
      "Reverse Frame 3: GC TAA TAT AAG GCT TGC GGT GTC ACC T\n"
     ]
    }
   ],
   "source": [
    "frames_x_3(seq , DNA_complementary_reversed(seq)) # we can pass a func. The output od the function will be used as an argument"
   ]
  },
  {
   "cell_type": "markdown",
   "metadata": {},
   "source": [
    "# Exercise 9: Level 5 (Intermediate).\n",
    "\n",
    "A reading frame is a way to divide a sequence of nucleotides (DNA bases) into a set of consecutive non-overlapping triplets (also called codon).\n",
    "Each of this triplets is translated into an amino-acid during a translation process to create proteins.\n",
    "\n",
    "In a single strand of DNA you find 3 Reading frames, for example the following sequence:\n",
    "\n",
    "AGGTGACACCGCAAGCCTTATATTAGC\n",
    "will be decompose in:\n",
    "\n",
    "* Frame 1: AGG·TGA·CAC·CGC·AAG·CCT·TAT·ATT·AGC\n",
    "* Frame 2: A·GGT·GAC·ACC·GCA·AGC·CTT·ATA·TTA·GC\n",
    "* Frame 3: AG·GTG·ACA·CCG·CAA·GCC·TTA·TAT·TAG·C    \n",
    "\n",
    "\n",
    "In a double strand DNA you find 3 more Reading frames base on the reverse complement-strand, given the previous DNA sequence, in the reverse complement ( A-->T, G-->C, T-->A, C-->G). Due to the splicing of DNA strands and the fixed reading direction of a nucleotide strand, the reverse complement gets read from right to left\n",
    "\n",
    "                        AGGTGACACCGCAAGCCTTATATTAGC\n",
    "Reverse complement:     TCCACTGTGGCGTTCGGAATATAATCG  \n",
    "reversed reverse frame: GCTAATATAAGGCTTGCGGTGTCACCT\n",
    "\n",
    "You have:\n",
    "\n",
    "* Reverse Frame 1: GCT AAT ATA AGG CTT GCG GTG TCA CCT\n",
    "* reverse Frame 2: G CTA ATA TAA GGC TTG CGG TGT CAC CT\n",
    "* reverse Frame 3: GC TAA TAT AAG GCT TGC GGT GTC ACC T\n",
    "\n",
    "You can find more information about the Open Reading frame in wikipedia just [here] (https://en.wikipedia.org/wiki/Reading_frame)\n",
    "\n",
    "Given the standard table of genetic code:\n",
    "\n",
    " * AAs  = FFLLSSSSYY**CC*WLLLLPPPPHHQQRRRRIIIMTTTTNNKKSSRRVVVVAAAADDEEGGGG\n",
    " * Base1  = TTTTTTTTTTTTTTTTCCCCCCCCCCCCCCCCAAAAAAAAAAAAAAAAGGGGGGGGGGGGGGGG\n",
    " * Base2  = TTTTCCCCAAAAGGGGTTTTCCCCAAAAGGGGTTTTCCCCAAAAGGGGTTTTCCCCAAAAGGGG\n",
    " * Base3  = TCAGTCAGTCAGTCAGTCAGTCAGTCAGTCAGTCAGTCAGTCAGTCAGTCAGTCAGTCAGTCAG\n",
    "\n",
    "The tri-nucleotide TTT = F, TTC = F, TTA = L...\n",
    "\n",
    "\n",
    "So our 6 frames will be translate as:\n",
    "\n",
    "* Frame 1: AGG·TGA·CAC·CGC·AAG·CCT·TAT·ATT·AGC\n",
    "          R   *   H   R   K   P   Y   I   S\n",
    "\n",
    "* Frame 2: A·GGT·GAC·ACC·GCA·AGC·CTT·ATA·TTA·GC\n",
    "             G  D   T   A   S   L   I   L  \n",
    "\n",
    "* Frame 3: AG·GTG·ACA·CCG·CAA·GCC·TTA·TAT·TAG·C\n",
    "             V   T   P   Q   A   L   Y   *\n",
    "\n",
    "* Reverse Frame 1: GCT AAT ATA AGG CTT GCG GTG TCA CCT\n",
    "                  A   N   I   R   L   A   V   S   P\n",
    "\n",
    "* Reverse Frame 2: G CTA ATA TAA GGC TTG CGG TGT CAC CT\n",
    "                    L   I   *   G   L   R   C   H\n",
    "\n",
    "* Reverse Frame 3: GC TAA TAT AAG GCT TGC GGT GTC ACC T\n",
    "                     *   Y   K   A   C   G   V   T\n",
    "                     \n",
    "In this kata you should **create a function that translates DNA on all 6 frames**, this function takes 2 arguments. The first one is the DNA sequence the second one is an array of frame number for example if we want to translate in Frame 1 and Reverse 1 this array will be [1,-1]. Valid frames are 1, 2, 3 and -1, -2, -3.\n",
    "\n",
    "The translation hash is available for you under a translation hash $codons [Ruby] or codon [other languages] (for example to access value of 'TTT' you should call $codons['TTT'] => 'F').\n",
    "\n",
    "The function should return an array with all translation asked for, by default the function do the translation on all 6 frames."
   ]
  },
  {
   "cell_type": "code",
   "execution_count": null,
   "metadata": {},
   "outputs": [],
   "source": []
  },
  {
   "cell_type": "code",
   "execution_count": null,
   "metadata": {},
   "outputs": [],
   "source": []
  },
  {
   "cell_type": "code",
   "execution_count": null,
   "metadata": {},
   "outputs": [],
   "source": []
  }
 ],
 "metadata": {
  "kernelspec": {
   "display_name": "Python 3",
   "language": "python",
   "name": "python3"
  },
  "language_info": {
   "codemirror_mode": {
    "name": "ipython",
    "version": 3
   },
   "file_extension": ".py",
   "mimetype": "text/x-python",
   "name": "python",
   "nbconvert_exporter": "python",
   "pygments_lexer": "ipython3",
   "version": "3.7.4"
  },
  "widgets": {
   "application/vnd.jupyter.widget-state+json": {
    "state": {},
    "version_major": 2,
    "version_minor": 0
   }
  }
 },
 "nbformat": 4,
 "nbformat_minor": 4
}
